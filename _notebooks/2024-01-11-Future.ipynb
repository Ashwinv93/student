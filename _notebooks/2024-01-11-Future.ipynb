{
 "cells": [
  {
   "cell_type": "markdown",
   "metadata": {},
   "source": [
    "---\n",
    "toc: true\n",
    "comments: true\n",
    "layout: post\n",
    "title: Plans for future\n",
    "description: plan\n",
    "courses: {compsci: {week: 6}}\n",
    "type: plans\n",
    "---"
   ]
  },
  {
   "cell_type": "markdown",
   "metadata": {},
   "source": [
    "## plans for future\n",
    "Main plan is to figure out how to store info in a database within the backend. Our main idea is to do something do with either basketball players or clash royale cards. It would allow users to vote on cards and store them as their favorite. The main feature would be the ability to upvote and downvote the different cards in the app. You would be able to store all your info within your profile aqnd compare with others. "
   ]
  }
 ],
 "metadata": {
  "language_info": {
   "name": "python"
  }
 },
 "nbformat": 4,
 "nbformat_minor": 2
}
