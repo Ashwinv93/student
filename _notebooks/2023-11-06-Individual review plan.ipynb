{
 "cells": [
  {
   "cell_type": "markdown",
   "metadata": {},
   "source": [
    "## Individual Review Plan\n",
    "+ Go over the main code plans very briefly \n",
    "+ Go over passion project plans aswell as individual code\n",
    "+ Go over college board during test commentary and corrections\n",
    "+ Pseudo Code notes\n",
    "+ Key commits\n",
    "+ Go over team teaching notes\n",
    "+ Go over final reflection for the class"
   ]
  }
 ],
 "metadata": {
  "language_info": {
   "name": "python"
  }
 },
 "nbformat": 4,
 "nbformat_minor": 2
}
