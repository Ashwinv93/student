{
 "cells": [
  {
   "cell_type": "markdown",
   "metadata": {},
   "source": [
    "## Overall Goals and plans for passion project\n",
    "Create a way to get reccomendations for all sorts of media\n",
    "Jake: work on the front end API usage for song and show\n",
    "Ethan: work on mostly frontend appearance add little aspects for presentation\n",
    "Jordan: Get backend running on flask and make sure everyone is integrated\n",
    "Dante: work on the show API with a little on the song API also worked on connecting the frontend to the backend\n"
   ]
  }
 ],
 "metadata": {
  "language_info": {
   "name": "python"
  },
  "orig_nbformat": 4
 },
 "nbformat": 4,
 "nbformat_minor": 2
}
