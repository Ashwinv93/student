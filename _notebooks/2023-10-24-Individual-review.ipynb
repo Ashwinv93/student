{
 "cells": [
  {
   "cell_type": "markdown",
   "metadata": {},
   "source": [
    "---\n",
    "layout: post\n",
    "title: Passion project/ code Review\n",
    "description: Passion project work and review\n",
    "courses: {'compsci': {'week': 8}}\n",
    "type: tangibles\n",
    "---"
   ]
  },
  {
   "cell_type": "markdown",
   "metadata": {},
   "source": [
    "## Overall Goals and plans for passion project\n",
    "Create a way to get reccomendations for all sorts of media\n",
    "Jake: work on the front end API usage for song and show\n",
    "Ethan: work on mostly frontend appearance add little aspects for presentation\n",
    "Jordan: Get backend running on flask and make sure everyone is integrated\n",
    "Dante: work on the show API with a little on the song API also worked on connecting the frontend to the backend\n"
   ]
  },
  {
   "cell_type": "markdown",
   "metadata": {},
   "source": [
    "## My individual code: Frontend"
   ]
  },
  {
   "cell_type": "code",
   "execution_count": null,
   "metadata": {
    "vscode": {
     "languageId": "plaintext"
    }
   },
   "outputs": [],
   "source": [
    "<html>\n",
    "<head>\n",
    "    <title>Movie Preference Survey</title>\n",
    "</head>\n",
    "\n",
    "<body>\n",
    "    <h1>Find Your Next Movie</h1>\n",
    "\n",
    "    <p>What kind of movie are you in the mood for? Answer the questions below and we'll suggest some films!</p>\n",
    "\n",
    "    <label for=\"preferredGenre\">What genre do you prefer?</label>\n",
    "    <select id=\"preferredGenre\">\n",
    "        <option value=\"\">Choose a Genre</option>\n",
    "        <option value=\"28\">Action</option>\n",
    "        <option value=\"12\">Adventure</option>\n",
    "        <option value=\"35\">Comedy</option>\n",
    "        <option value=\"18\">Drama</option>\n",
    "        <!-- Add other genres as needed -->\n",
    "    </select>\n",
    "\n",
    "    <label for=\"releaseYear\">Do you have a preferred release year?</label>\n",
    "    <input type=\"number\" id=\"releaseYear\" placeholder=\"Enter release year (e.g. 1999)\">\n",
    "\n",
    "    <label for=\"ratingAbove\">Do you want movies rated above a certain score?</label>\n",
    "    <input type=\"number\" id=\"ratingAbove\" min=\"0\" max=\"10\" step=\"0.1\" placeholder=\"Enter a score (1-10)\">\n",
    "\n",
    "    <button type=\"button\" onclick=\"findMovies()\">Find Movies</button>\n",
    "\n",
    "    <h2>Suggested Movies:</h2>\n",
    "    <div id=\"movieSuggestions\"></div>\n",
    "\n",
    "    <h2>My Favorite Movies:</h2>\n",
    "    <ul id=\"favoriteMovies\"></ul>\n",
    "\n",
    "    <script>\n",
    "        const apiKey = 'bd74380ad0f3a6bc2db537543036493a'; // Provided API key\n",
    "\n",
    "        function findMovies() {\n",
    "            const genre = document.getElementById('preferredGenre').value;\n",
    "            const year = document.getElementById('releaseYear').value;\n",
    "            const rating = document.getElementById('ratingAbove').value;\n",
    "\n",
    "            let apiUrl = `https://api.themoviedb.org/3/discover/movie?api_key=${apiKey}&language=en-US&sort_by=popularity.desc`;\n",
    "\n",
    "            if (genre) apiUrl += `&with_genres=${genre}`;\n",
    "            if (year) apiUrl += `&primary_release_year=${year}`;\n",
    "            if (rating) apiUrl += `&vote_average.gte=${rating}`;\n",
    "\n",
    "            fetch(apiUrl)\n",
    "                .then(response => response.json())\n",
    "                .then(data => {\n",
    "                    displayMovies(data.results);\n",
    "                })\n",
    "                .catch(error => {\n",
    "                    console.error('Error:', error);\n",
    "                    document.getElementById('movieSuggestions').innerText = 'Failed to fetch movie suggestions.';\n",
    "                });\n",
    "        }\n",
    "\n",
    "        function displayMovies(movies) {\n",
    "            const suggestions = document.getElementById('movieSuggestions');\n",
    "            suggestions.innerHTML = ''; // Clear previous suggestions\n",
    "\n",
    "            if (movies.length === 0) {\n",
    "                suggestions.innerText = 'No movies found that match your criteria.';\n",
    "                return;\n",
    "            }\n",
    "\n",
    "            movies.forEach(movie => {\n",
    "                const element = document.createElement('div');\n",
    "                element.className = 'movie';\n",
    "                element.innerHTML = `\n",
    "                    <h3>${movie.title}</h3>\n",
    "                    <p>Release Date: ${movie.release_date}</p>\n",
    "                    <p>Rating: ${movie.vote_average}</p>\n",
    "                    <button onclick=\"addFavorite('${movie.title}', '${movie.release_date}', '${movie.vote_average}')\">Favorite</button>\n",
    "                `;\n",
    "                suggestions.appendChild(element);\n",
    "            });\n",
    "        }\n",
    "\n",
    "        function addFavorite(title, releaseDate, rating) {\n",
    "            const favoriteMoviesList = document.getElementById('favoriteMovies');\n",
    "            const listItem = document.createElement('li');\n",
    "            listItem.textContent = `${title} (Release Date: ${releaseDate}, Rating: ${rating}/10)`;\n",
    "            favoriteMoviesList.appendChild(listItem);\n",
    "        }\n",
    "    </script>\n",
    "\n",
    "    <style>\n",
    "        .movie {\n",
    "            margin-bottom: 20px;\n",
    "        }\n",
    "    </style>\n",
    "</body>\n",
    "</html>\n"
   ]
  },
  {
   "cell_type": "markdown",
   "metadata": {},
   "source": [
    "## Summary of the code\n",
    "The code consists of a short survey where the user must answer 3 short questions in order to personalize the movies outputted. The user's responses are stored in variables. Then, the variables are used when the request is being sent to the movie API being used. The movies that follow those filters are then outputted where the user is allowed to favorite them . "
   ]
  },
  {
   "cell_type": "markdown",
   "metadata": {},
   "source": [
    "## My individual code: Backend"
   ]
  },
  {
   "cell_type": "code",
   "execution_count": null,
   "metadata": {
    "vscode": {
     "languageId": "plaintext"
    }
   },
   "outputs": [],
   "source": [
    "from flask_cors import CORS\n",
    "from flask import Flask, request, jsonify\n",
    "import sqlite3\n",
    "\n",
    "app = Flask(__name__)\n",
    "CORS(app)  # Enable CORS for all routes\n",
    "\n",
    "DATABASE = 'movies.db'\n",
    "\n",
    "@app.route('/favorites', methods=['POST'])\n",
    "def add_favorite():\n",
    "    movie_data = request.get_json()\n",
    "    title = movie_data.get('title')\n",
    "    release_date = movie_data.get('release_date')\n",
    "    rating = movie_data.get('rating')\n",
    "\n",
    "    with sqlite3.connect(DATABASE) as conn:\n",
    "        cursor = conn.cursor()\n",
    "        cursor.execute(\"INSERT INTO favorites (title, release_date, rating) VALUES (?, ?, ?)\", (title, release_date, rating))\n",
    "        conn.commit()\n",
    "\n",
    "    return jsonify({\"message\": \"Movie added to favorites successfully!\"})\n",
    "\n",
    "@app.route('/favorites', methods=['GET'])\n",
    "def get_favorites():\n",
    "    with sqlite3.connect(DATABASE) as conn:\n",
    "        cursor = conn.cursor()\n",
    "        cursor.execute(\"SELECT title, release_date, rating FROM favorites\")\n",
    "        movies = cursor.fetchall()\n",
    "\n",
    "    return jsonify(movies)\n",
    "\n",
    "@app.route('/')\n",
    "def home():\n",
    "    return \"Welcome to the Movie API\"\n",
    "\n",
    "if __name__ == '__main__':\n",
    "    app.run(debug=True)\n"
   ]
  },
  {
   "cell_type": "markdown",
   "metadata": {},
   "source": [
    "## Summary of the code\n",
    "In the frontend, the user is allowed to favorite the movies they want to come back to. The favorited movies are communicated to the backend where they are stored in a SQ lite database. "
   ]
  },
  {
   "cell_type": "markdown",
   "metadata": {},
   "source": [
    "## Reflection of Passion Project\n",
    "Overall, this passion project taught me many important aspects relating to coding. First, the project allowed me to work on structuring group work and communicating with teammates. Communication was in my opinion the most important part of the the project since it allowed us to meet our goals and maintain a fun, but productive work enviornment. Another thing it taught me was overall how to effectively code so the code would proparly function and be easily readable. "
   ]
  }
 ],
 "metadata": {
  "language_info": {
   "name": "python"
  },
  "orig_nbformat": 4
 },
 "nbformat": 4,
 "nbformat_minor": 2
}
