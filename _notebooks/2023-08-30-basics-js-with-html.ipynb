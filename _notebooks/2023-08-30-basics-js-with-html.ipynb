{
 "cells": [
  {
   "cell_type": "markdown",
   "metadata": {},
   "source": [
    "---\n",
    "title: Using Javascript with HTML DOM\n",
    "hide: True\n",
    "description: A Tech Talk on how javascript can interact with HTML DOM\n",
    "type: ccc\n",
    "permalink: /basics/dom\n",
    "author: Rohan Juneja\n",
    "---"
   ]
  },
  {
   "cell_type": "raw",
   "metadata": {},
   "source": [
    "{% include nav_basics.html %}"
   ]
  },
  {
   "cell_type": "markdown",
   "metadata": {},
   "source": [
    "\n",
    "# Following along\n",
    "Remember to \"git pull\" on teacher repository to update to lates.\n",
    "- Run this notebook in VSCode\n",
    "- Activate Help-Toogel Developer Tools to add console outputs to runtime experience"
   ]
  },
  {
   "cell_type": "markdown",
   "metadata": {},
   "source": [
    "# Referencing HTML elements using javascript\n",
    "- To get an HTML element, use ``document.getElementById(\"idTag\")``\n",
    "- You will use the ID that you set in your HTML\n",
    "- if you `console.log` the resulting variable you will get some information about the element"
   ]
  },
  {
   "cell_type": "code",
   "execution_count": null,
   "metadata": {},
   "outputs": [],
   "source": [
    "%%html\n",
    "<!-- the ID must be specified within the element -->\n",
    "<h1 id=\"domTitleID\">My Title</h1>\n",
    "\n",
    "<!-- javascript goes here -->\n",
    "<script>\n",
    "var titleElement = document.getElementById(\"domTitleID\")\n",
    "<!-- outputs h1 tag -->\n",
    "console.log(\"Example #1, show element in DOM\")\n",
    "console.log(titleElement)\n",
    "</script>"
   ]
  },
  {
   "cell_type": "markdown",
   "metadata": {},
   "source": [
    "# Getting the data within the HTML element\n",
    "- The variable titleElement stores the \"object\"\n",
    "- Basically think of this as the group of data enclosed in HTML tag\n",
    "- To access a certain type of data from an \"object\" we use \".\" notation\n",
    "  - .innerHTML gets data within center of tag"
   ]
  },
  {
   "cell_type": "code",
   "execution_count": null,
   "metadata": {},
   "outputs": [],
   "source": [
    "%%html\n",
    "<!-- the ID must be specified within the element -->\n",
    "<h1 id=\"domTitleIDget\">My Title</h1>\n",
    "\n",
    "<!-- javascript goes here -->\n",
    "<script>\n",
    "var titleElement = document.getElementById(\"domTitleIDget\")\n",
    "<!-- outputs h1 innerHTML from h1 tag -->\n",
    "console.log(\"Example #2, show innerHTML\")\n",
    "console.log(titleElement.innerHTML)\n",
    "</script>"
   ]
  },
  {
   "cell_type": "markdown",
   "metadata": {},
   "source": [
    "# Setting the data within the HTML Element\n",
    "- The innerHTML data in this \"object\" can be set like a variable\n",
    "  - Change the value of the innerHTML using the \"=\" (assignment) operator"
   ]
  },
  {
   "cell_type": "code",
   "execution_count": null,
   "metadata": {},
   "outputs": [],
   "source": [
    "%%html\n",
    "<!-- the ID must be specified on the element -->\n",
    "<h1 id=\"domTitleIDset\">My Title</h1>\n",
    "\n",
    "<!-- javascript goes here -->\n",
    "<script>\n",
    "var titleElement = document.getElementById(\"domTitleIDset\")\n",
    "titleElement.innerHTML = \"Set and Update My Title\"\n",
    "<!-- outputs h1 innerHTML after h1 tag has been updated -->\n",
    "console.log(\"Example #3, update innerHTML\")\n",
    "console.log(titleElement.innerHTML)\n",
    "</script>"
   ]
  },
  {
   "cell_type": "markdown",
   "metadata": {},
   "source": [
    "# Creating elements\n",
    "- Create a new element with the document.createElement function -> takes in the type of element\n",
    "- Set properties in the element just like the \"h1\" example"
   ]
  },
  {
   "cell_type": "code",
   "execution_count": null,
   "metadata": {},
   "outputs": [],
   "source": [
    "%%html\n",
    "<!-- the ID must be specified on the element -->\n",
    "<div id=\"divContainerID\">\n",
    "    <h1 id=\"h1ElementID\">My Title</h1>\n",
    "</div>\n",
    "\n",
    "<!-- javascript goes here -->\n",
    "<script>\n",
    "   // creates a new element\n",
    "   var pElement = document.createElement(\"p\")\n",
    "   pElement.innerHTML = \"Starting a paragraph of text.\"\n",
    "   \n",
    "   // outputs p tag after it has been created\n",
    "   console.log(\"Example #4, create a p tag within JS\")\n",
    "   console.log(pElement)\n",
    "</script>"
   ]
  },
  {
   "cell_type": "markdown",
   "metadata": {},
   "source": [
    "# Issue! How to Create element that appears in HTML?\n",
    "- Here is a visualization of what is happening => the \"p\" is not placed inside the HRML page!\n",
    "![visual on p tag floating]({{ site.baseurl }}/images/dom-visual-1.png)\n"
   ]
  },
  {
   "cell_type": "markdown",
   "metadata": {},
   "source": [
    "# Solution\n",
    "- Correct by placeing the element somewhere in the page\n",
    "- For example, we could add the element within the div\n",
    "   - For this, use the appendChild function on the div object (the parameter would be the p element we created)\n",
    "   - Remember, use the getELementById to get the object for something in the html (the div!)\n",
    "- Updated Diagram\n",
    "![visual on p tag in div]({{ site.baseurl }}/images/dom-visual-2.png)"
   ]
  },
  {
   "cell_type": "code",
   "execution_count": null,
   "metadata": {},
   "outputs": [],
   "source": [
    "%%html\n",
    "<!-- the ID must be specified on the element -->\n",
    "<div id=\"divContainerIDset\">\n",
    "    <h1 id=\"h1ElementIDset\">My Title</h1>\n",
    "</div>\n",
    "\n",
    "<!-- javascript goes here -->\n",
    "<script>\n",
    "   // creates a new element\n",
    "   var pElement = document.createElement(\"p\")\n",
    "   pElement.innerHTML = \"Starting a paragraph of text.\"\n",
    "   \n",
    "   // outputs p tag after it has been created\n",
    "   console.log(\"Example #5, add p tag to HTML\")\n",
    "   console.log(pElement)\n",
    "   \n",
    "   // place the p element inside the HTML page\n",
    "   var div = document.getElementById(\"divContainerIDset\")\n",
    "   div.appendChild(pElement)\n",
    "</script>"
   ]
  },
  {
   "cell_type": "markdown",
   "metadata": {},
   "source": [
    "# Functions in JavaScript, using with DOM\n",
    "- Functions allow you to \"do something\"\n",
    "  - ex. \"eat food\" in a Snake Game\n",
    "- Functions were used in previous examples\n",
    "  - console.log = \"print something\"\n",
    "  - document.getElementById = \"find an element with id\"\n",
    "- Functions take in parameters, what to do (inside the parenthesis)\n",
    "  - the parameter tells console.log what to print\n",
    "  - the parameter in document.getElementById tells the id of the element\n",
    "- Functions can be used with DOM as well, thes will be shown below"
   ]
  },
  {
   "cell_type": "markdown",
   "metadata": {},
   "source": [
    "# Creeating functions\n",
    "- document functions functions were used to create a lot of functionality, but how can a developer create their own?\n",
    "- function are useful to avoid writing the same code over and over again\n",
    "- function can contain parameters for input (they effectively become variables)\n",
    "- function can contain a return, the are the \"output\" of the function"
   ]
  },
  {
   "cell_type": "code",
   "execution_count": null,
   "metadata": {},
   "outputs": [],
   "source": [
    "%%html\n",
    "<!-- the ID must be specified on the element -->\n",
    "<div id=\"divContainerIDfunction\">\n",
    "    <h1 id=\"h1ElementIDfunction\">My Title</h1>\n",
    "</div>\n",
    "\n",
    "<!-- javascript goew here -->\n",
    "<script>\n",
    "    // define a function => takes parameter text, returns a new p tab\n",
    "    function createPTag(text) {\n",
    "        // creates a new element\n",
    "        var pElement = document.createElement(\"p\")\n",
    "\n",
    "        // using the parameter like a variable\n",
    "        pElement.innerHTML = text\n",
    "        \n",
    "        // outputs p tag after it has been created\n",
    "        console.log(\"Example #6, add p tag using a function\")\n",
    "        console.log(pElement)\n",
    "\n",
    "        return pElement;\n",
    "    }\n",
    "\n",
    "    // using a function to create p tag\n",
    "    var pTag = createPTag(\"Starting a paragraph with cooler text than before.\")\n",
    "\n",
    "    // place the p element in the webpage\n",
    "    var div = document.getElementById(\"divContainerIDfunction\")\n",
    "    div.appendChild(pTag)\n",
    "</script>"
   ]
  },
  {
   "cell_type": "markdown",
   "metadata": {},
   "source": [
    "# OnClick Event\n",
    "- Run a function when an event occurs\n",
    "   - In this case, the p tag is created when the button is clicked"
   ]
  },
  {
   "cell_type": "code",
   "execution_count": null,
   "metadata": {},
   "outputs": [],
   "source": [
    "%%html\n",
    "<!-- the ID must be specified on the elements -->\n",
    "<button id=\"buttonID\">Click here!</button>\n",
    "\n",
    "<div id=\"divContainerIDbutton\">\n",
    "    <h1 id=\"h1ElementIDbutton\">My Title</h1>\n",
    "</div>\n",
    "\n",
    "<!-- our javascript goe here -->\n",
    "<script>\n",
    "    // define a function => takes parameter text, returns a new p tab\n",
    "    function createPTag(text) {\n",
    "        // creates a new element\n",
    "        var pElement = document.createElement(\"p\")\n",
    "\n",
    "        // using the parameter like a variable\n",
    "        pElement.innerHTML = text\n",
    "        \n",
    "        // outputs p tag after it has been created\n",
    "        console.log(\"Example #7.1, add p tag using a function\")\n",
    "        console.log(pElement)\n",
    "\n",
    "        return pElement;\n",
    "    }\n",
    "\n",
    "    // create a function that sets specific text and adds to div\n",
    "    function addPTagOnButton() {\n",
    "        // using our new function\n",
    "        var pTag = createPTag(\"Starting a paragraph with text created on button press.\")\n",
    "\n",
    "        // place the p element in the webpage\n",
    "        var div = document.getElementById(\"divContainerIDbutton\")\n",
    "\n",
    "        // add p tag to the div\n",
    "        div.appendChild(pTag)\n",
    "        \n",
    "        // outputs p tag after it has been created\n",
    "        console.log(\"Example #7.2, update container adding a 'p' tag\")\n",
    "        console.log(div)\n",
    "    }\n",
    "\n",
    "    // add the P tag when our button is clicked\n",
    "    var myButton = document.getElementById(\"buttonID\")\n",
    "    myButton.onclick = addPTagOnButton\n",
    "    \n",
    "</script>"
   ]
  },
  {
   "cell_type": "markdown",
   "metadata": {},
   "source": [
    "# Hacks\n",
    "- Copy your HTML code from the HTML hacks. Write a Javascript snippet to switch the links of the two a tags when a button is pressed. Once they are switched, change the inner HTML of the top p tag to the word \"switched!\""
   ]
  },
  {
   "cell_type": "code",
   "execution_count": 2,
   "metadata": {
    "vscode": {
     "languageId": "html"
    }
   },
   "outputs": [
    {
     "data": {
      "application/javascript": "<html>\n<head>\n    <title>Button Link Example</title>\n</head>\n<body>\n    <a href=\"https://www.ulta.com/p/luna-rossa-black-eau-de-parfum-xlsImpprod18731053\" id=\"link1\" class=\"button\" target=\"_blank\">Ingredients</a>\n    <a href=\"https://www.fragrantica.com/perfume/Prada/Luna-Rossa-Black-48682.html\" id=\"link2\">prada black scent profile</a>\n    <button id=\"toggleButton\" onclick=\"switchLinks()\">Switch Links</button>\n    <p>Switch Count: <span id=\"switchCount\">0</span></p>\n    <p>Link 1: <span id=\"link1Text\">https://www.ulta.com/p/luna-rossa-black-eau-de-parfum-xlsImpprod18731053</span></p>\n    <p>Link 2: <span id=\"link2Text\">https://www.fragrantica.com/perfume/Prada/Luna-Rossa-Black-48682.html</span></p>\n</body>\n</html>\n<div>\n    <!-- notice how tags can be put INSIDE each other -->\n    <p>Prada introduced Prada Luna Rossa Black to expand its Luna Rossa line, catering to consumers seeking a bold and distinctive fragrance experience. This fragrance is a captivating addition, blending aromatic notes of bergamot and angelica with intense patchouli, creating a unique and sensual scent profile. Prada aimed to offer a sophisticated and mysterious olfactory journey for those who appreciate the brand's commitment to innovation and luxury.\n    </p>\n    <p>\n        <!-- Your image here -->\n    </p>\n    <p>Prada Luna Rossa Black is a versatile fragrance suitable for various occasions, making it perfect for both daytime and evening wear. Its intriguing blend of notes, including bergamot and patchouli, strikes a balance between elegance and intensity, making it a great choice for formal events, romantic evenings, or even everyday use.\n    </p>\n</div>\n<script>\n    var link1 = document.getElementById(\"link1\");\n    var link2 = document.getElementById(\"link2\");\n    var toggleButton = document.getElementById(\"toggleButton\");\n    var toggle = false;\n    var switchCount = 0;\n    function switchLinks() {\n        if (toggle) {\n            // Swap the href attributes back to their original values\n            link1.href = \"https://www.ulta.com/p/luna-rossa-black-eau-de-parfum-xlsImpprod18731053\";\n            link2.href = \"https://www.fragrantica.com/perfume/Prada/Luna-Rossa-Black-48682.html\";\n            toggleButton.textContent = \"Switch Links\";\n            link1.textContent = \"Ingredients\";\n            link2.textContent = \"Prada Black Scent Profile\";\n        } else {\n            // Swap the href attributes\n            var tempHref = link1.href;\n            link1.href = link2.href;\n            link2.href = tempHref;\n            toggleButton.textContent = \"Switch Links\";\n            if (link1.textContent === \"Ingredients\") {\n                link1.textContent = \"Prada Black Scent Profile\";\n                link2.textContent = \"Ingredients\";\n            } else {\n                link1.textContent = \"Ingredients\";\n                link2.textContent = \"Prada Black Scent Profile\";\n            }\n        }\n        toggle = !toggle;\n        // Update the switch count\n        switchCount++;\n        document.getElementById(\"switchCount\").textContent = switchCount;\n        // Update the displayed links\n        document.getElementById(\"link1Text\").textContent = link1.textContent;\n        document.getElementById(\"link2Text\").textContent = link2.textContent;\n    }\n</script>\n",
      "text/plain": [
       "<IPython.core.display.Javascript object>"
      ]
     },
     "metadata": {},
     "output_type": "display_data"
    }
   ],
   "source": [
    "%%js\n",
    "<html>\n",
    "<head>\n",
    "    <title>Button Link Example</title>\n",
    "</head>\n",
    "<body>\n",
    "    <a href=\"https://www.ulta.com/p/luna-rossa-black-eau-de-parfum-xlsImpprod18731053\" id=\"link1\" class=\"button\" target=\"_blank\">Ingredients</a>\n",
    "    <a href=\"https://www.fragrantica.com/perfume/Prada/Luna-Rossa-Black-48682.html\" id=\"link2\">prada black scent profile</a>\n",
    "    <button id=\"toggleButton\" onclick=\"switchLinks()\">Switch Links</button>\n",
    "    <p>Switch Count: <span id=\"switchCount\">0</span></p>\n",
    "    <p>Link 1: <span id=\"link1Text\">https://www.ulta.com/p/luna-rossa-black-eau-de-parfum-xlsImpprod18731053</span></p>\n",
    "    <p>Link 2: <span id=\"link2Text\">https://www.fragrantica.com/perfume/Prada/Luna-Rossa-Black-48682.html</span></p>\n",
    "</body>\n",
    "</html>\n",
    "<div>\n",
    "    <!-- notice how tags can be put INSIDE each other -->\n",
    "    <p>Prada introduced Prada Luna Rossa Black to expand its Luna Rossa line, catering to consumers seeking a bold and distinctive fragrance experience. This fragrance is a captivating addition, blending aromatic notes of bergamot and angelica with intense patchouli, creating a unique and sensual scent profile. Prada aimed to offer a sophisticated and mysterious olfactory journey for those who appreciate the brand's commitment to innovation and luxury.\n",
    "    </p>\n",
    "    <p>\n",
    "        <!-- Your image here -->\n",
    "    </p>\n",
    "    <p>Prada Luna Rossa Black is a versatile fragrance suitable for various occasions, making it perfect for both daytime and evening wear. Its intriguing blend of notes, including bergamot and patchouli, strikes a balance between elegance and intensity, making it a great choice for formal events, romantic evenings, or even everyday use.\n",
    "    </p>\n",
    "</div>\n",
    "<script>\n",
    "    var link1 = document.getElementById(\"link1\");\n",
    "    var link2 = document.getElementById(\"link2\");\n",
    "    var toggleButton = document.getElementById(\"toggleButton\");\n",
    "    var toggle = false;\n",
    "    var switchCount = 0;\n",
    "    function switchLinks() {\n",
    "        if (toggle) {\n",
    "            // Swap the href attributes back to their original values\n",
    "            link1.href = \"https://www.ulta.com/p/luna-rossa-black-eau-de-parfum-xlsImpprod18731053\";\n",
    "            link2.href = \"https://www.fragrantica.com/perfume/Prada/Luna-Rossa-Black-48682.html\";\n",
    "            toggleButton.textContent = \"Switch Links\";\n",
    "            link1.textContent = \"Ingredients\";\n",
    "            link2.textContent = \"Prada Black Scent Profile\";\n",
    "        } else {\n",
    "            // Swap the href attributes\n",
    "            var tempHref = link1.href;\n",
    "            link1.href = link2.href;\n",
    "            link2.href = tempHref;\n",
    "            toggleButton.textContent = \"Switch Links\";\n",
    "            if (link1.textContent === \"Ingredients\") {\n",
    "                link1.textContent = \"Prada Black Scent Profile\";\n",
    "                link2.textContent = \"Ingredients\";\n",
    "            } else {\n",
    "                link1.textContent = \"Ingredients\";\n",
    "                link2.textContent = \"Prada Black Scent Profile\";\n",
    "            }\n",
    "        }\n",
    "        toggle = !toggle;\n",
    "        // Update the switch count\n",
    "        switchCount++;\n",
    "        document.getElementById(\"switchCount\").textContent = switchCount;\n",
    "        // Update the displayed links\n",
    "        document.getElementById(\"link1Text\").textContent = link1.textContent;\n",
    "        document.getElementById(\"link2Text\").textContent = link2.textContent;\n",
    "    }\n",
    "</script>"
   ]
  }
 ],
 "metadata": {
  "kernelspec": {
   "display_name": "Python 3",
   "language": "python",
   "name": "python3"
  },
  "language_info": {
   "codemirror_mode": {
    "name": "ipython",
    "version": 3
   },
   "file_extension": ".py",
   "mimetype": "text/x-python",
   "name": "python",
   "nbconvert_exporter": "python",
   "pygments_lexer": "ipython3",
   "version": "3.10.12"
  },
  "orig_nbformat": 4
 },
 "nbformat": 4,
 "nbformat_minor": 2
}
