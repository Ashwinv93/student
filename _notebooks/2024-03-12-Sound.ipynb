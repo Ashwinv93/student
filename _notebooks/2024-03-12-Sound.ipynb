{
 "cells": [
  {
   "cell_type": "code",
   "execution_count": 3,
   "metadata": {
    "vscode": {
     "languageId": "html"
    }
   },
   "outputs": [
    {
     "ename": "SyntaxError",
     "evalue": "invalid syntax (195040302.py, line 1)",
     "output_type": "error",
     "traceback": [
      "\u001b[0;36m  Cell \u001b[0;32mIn[3], line 1\u001b[0;36m\u001b[0m\n\u001b[0;31m    <head>\u001b[0m\n\u001b[0m    ^\u001b[0m\n\u001b[0;31mSyntaxError\u001b[0m\u001b[0;31m:\u001b[0m invalid syntax\n"
     ]
    }
   ],
   "source": [
    "<hmtl>\n",
    "<head>\n",
    "    <title>Play Audio on Button Click</title>\n",
    "</head>\n",
    "<body>\n",
    "\n",
    "<button onclick=\"playAudio()\">Play Mario Death Sound</button>\n",
    "\n",
    "<!-- Audio element for playing the sound. It can go anywhere within the body. -->\n",
    "<audio id=\"marioDeathAudio\" src=\"assets/audio/marioDeath.mp3\"></audio>\n",
    "\n",
    "<script>\n",
    "// JavaScript function to play the audio.\n",
    "function playAudio() {\n",
    "    var audio = document.getElementById(\"marioDeathAudio\");\n",
    "    audio.play();\n",
    "}\n",
    "</script>\n",
    "\n",
    "</body>"
   ]
  }
 ],
 "metadata": {
  "kernelspec": {
   "display_name": "Python 3",
   "language": "python",
   "name": "python3"
  },
  "language_info": {
   "codemirror_mode": {
    "name": "ipython",
    "version": 3
   },
   "file_extension": ".py",
   "mimetype": "text/x-python",
   "name": "python",
   "nbconvert_exporter": "python",
   "pygments_lexer": "ipython3",
   "version": "3.11.5"
  }
 },
 "nbformat": 4,
 "nbformat_minor": 2
}
