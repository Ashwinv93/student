{
 "cells": [
  {
   "cell_type": "markdown",
   "metadata": {},
   "source": [
    "---\n",
    "toc: true\n",
    "comments: false\n",
    "layout: post\n",
    "title: Wrong answers \n",
    "type: tangibles\n",
    "courses: { compsci: {week: 8} }\n",
    "---"
   ]
  },
  {
   "cell_type": "markdown",
   "metadata": {},
   "source": [
    "## Questions I got wrong \n",
    "Question 3: Which of the following would be the best use of citizen science?\n",
    "I selected: A, An experiment that requires all participants to be working in the same laboratory\n",
    "\n",
    "Correct Answer: An experiment that requires data measurements to be taken in many different locations\n",
    "\n",
    "Why is it correct? I believe it is correct because it reaches a wider variety of citizens than the first option\n",
    "\n",
    "Question 5: A programmer is creating an algorithm to set the value of One word, ticket Price based on the information in the table. The programmer uses the integer  variable age for the age of the moviegoer. The Boolean variable One word, is 3 D is true when the movie is 3-D and false otherwise. Which of the following code segments correctly sets the value of One word, ticket Price ?\n",
    "\n",
    "I selected D, correct answer was C. This was because the else statement in option C uses is3D which is a factor that effects the price\n",
    "\n",
    "Q13: Which of the following hypotheses is most consistent with the data in the table?\n",
    "\n",
    "I selected The mobile app release did not have any effect on the average number of daily messages sent per user.\n",
    "\n",
    "The correct answer was The mobile app release led to users tending to write shorter messages.\n",
    "\n",
    "Why is it correct? It's correct because the release of the mobile app caused a quick instant decrease following right after the release.\n",
    "\n",
    "Q14: Which of the following best compares the values displayed by programs A and B?\n",
    "\n",
    "I selected Program A and program B display identical values.\n",
    "\n",
    "the correct answer: Program A and program B display the same number of values, but the values differ. it is correct because program B is one number ahead.  \n",
    "\n",
    "Q18 The model predicted that there would be 200 births last year, but the actual number of births last year was only 120. Which of the following strategies is LEAST likely to provide a more accurate prediction?\n",
    "\n",
    "I selected Gathering data for additional years to try to identify patterns in birth rates\n",
    "\n",
    "Correct answer: Removing as many details from the model as possible so that calculations can be performed quickly\n",
    "I thought it was supposed to be what would help.\n",
    "\n",
    "Question 41: Which of the following could be used in the procedure to calculate a student’s total points earned in the course and store the result in the variable One word, adjusted Total ?\n",
    "\n",
    "option B This option is correct. This expression uses theMax procedure to replace the midterm score with the higher of the two scores. The selected value is then added to the final exam score and assigned to One word, adjusted Total.\n",
    "\n",
    "Other two 64,65 were simple mistakes\n",
    "\n",
    "\n",
    "\n"
   ]
  }
 ],
 "metadata": {
  "language_info": {
   "name": "python"
  }
 },
 "nbformat": 4,
 "nbformat_minor": 2
}
