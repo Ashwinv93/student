{
 "cells": [
  {
   "cell_type": "markdown",
   "metadata": {},
   "source": [
    "## College Board Quiz Review"
   ]
  },
  {
   "cell_type": "markdown",
   "metadata": {},
   "source": [
    "- Questions 1-4 were easy\n",
    "- Question 5 was confusing since the answer that I thought to be correct before looking at the options wasn't there. Also, when I looked it up the answer that showed up was not an option.\n",
    "- question 6-8 were easy\n",
    "- Question 9 notes: Public encryption key: a method of encrypting or signing data with two different keys and making one of the keys, the public key, available for anyone to use.\n",
    "- Question 10-15 were pretty easy\n",
    "- Question 16 was kind of confusing since I didn't understand how the code really worked. After looking it up I still don't really get it so I will have to see how college board explains.\n",
    "- Question 17-26 They were moderately easy i spent roughly 2-3 minutes on each question\n",
    "- Question 27: Which of the following best explains why it is not possible to use computers to solve every problem?\n",
    "Both options B and D seem correct so I picked B\n",
    "- Question 28 easy\n",
    "- Question 29 notes: loseless compression: a form of data compression that reduce file sizes without sacrificing any significant information in the process.\n",
    "- Question 30-37 Were not too bad I think I at most got one of them wrong most were common sense\n",
    "- Question 38 notes: IPv6 uses a 128 bit address while IPv4 uses only 32\n",
    "- Question 39-40 were easy\n",
    "- Question 41 was pretty confusing, there wasa lot of information that i didn't really know how related to each other. I looked it up :/.\n",
    "- Question 42-43 were pretty easy\n",
    "- Question 44 fun refrence to our team teach regarding routing and computing more specifically redundancies.\n",
    "- Question 45-48 moderate difficulty maybe 7/10\n",
    "- Question 49 notes: in order to represent a number of people by assigning binary values the bit sequence must contain enough to account for each member. For the 100 users 7 bits can get up to 127 people.\n",
    "- Lots of the information needed for this quiz was taught by most of the teams in their team teaches like creative commons, phisching, and ipv6\n",
    "- question 50-54 were easy no need to look anything up\n",
    "-  Question 55 was kind of confusing about what the user needs to write on the car and where to write it. I looked it up and now the answer makes the most sense to me out of  all the options. \n",
    "-  question 56-58 were easy \n",
    "-  Question 59 notes: Open source software is software that is distributed with its source code, making it available for use, modification, and distribution with its orginal rights. \n",
    "-  Question 60-67 were all select 2 and I thought they were pretty easy\n",
    "## Prediction\n",
    "Overall, this test wasn't too hard and didn't take me too long. I predict I got at least a 50/64 which I don't think is too bad.\n",
    "## Review\n",
    "I got a 54/67 which wasn't too bad since I felt I looked up way less than I did on the last quiz\n",
    "- Question 4 I selected the option about no tbeing able to represent integers, when turns out it can but can only use a fixed number of bits.\n",
    "- Question 12 I just read the binary values for the color indigo wrong if I had a piece of paper I likely wouldn't miss it again. \n",
    "- Question 18 I accidently messed up rotating right with the moving forward. \n",
    "- Question 22 I thought the circle was split into sixths when it was actually split into eights\n",
    "- Question 24 the option I chose was incorrect because the val starts at 0 then increases by 2 at a time making it so it can only be even\n",
    "- Question 25 Statement 1 is false since the internet is not controlled from a single device. Also, two is true since the internet uses redundant routing. \n",
    "- Question 27 Large scale problems do not necessarily require crowd sourcing to be solved computationally. Some problems just can't be solved. \n",
    "- Question 53 The system uses GPS tech to find the lost pet, but the answer depends on others to say where the dog is. \n",
    "- I had only 3 more questions that were incorrect, but going over them I am able to fully understand them and i think i got them wrong mostly based on me getting tired since I was almost done. \n",
    "Overall, the quiz was pretty enganging and wasn't too long even though it was over 60 questions. I think it was cool to see that the lessons taught be the people in my class carry over to questions taught by college board. A lot of the question were able to be determined using application of knowledge and common sense. I think I am becoming more knowledgable and even though my score was lower than the last I used the internet way less and am able to understand and refelct on my errors.\n",
    "\n"
   ]
  }
 ],
 "metadata": {
  "language_info": {
   "name": "python"
  }
 },
 "nbformat": 4,
 "nbformat_minor": 2
}
